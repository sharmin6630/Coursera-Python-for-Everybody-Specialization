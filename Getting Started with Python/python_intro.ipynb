{
  "nbformat": 4,
  "nbformat_minor": 0,
  "metadata": {
    "colab": {
      "name": "python_intro.ipynb",
      "provenance": [],
      "authorship_tag": "ABX9TyM7CY3iVRu+rPTLx6Hywvvy",
      "include_colab_link": true
    },
    "kernelspec": {
      "name": "python3",
      "display_name": "Python 3"
    }
  },
  "cells": [
    {
      "cell_type": "markdown",
      "metadata": {
        "id": "view-in-github",
        "colab_type": "text"
      },
      "source": [
        "<a href=\"https://colab.research.google.com/github/sharmin6630/Python-for-Everybody/blob/master/Getting%20Started%20with%20Python/python_intro.ipynb\" target=\"_parent\"><img src=\"https://colab.research.google.com/assets/colab-badge.svg\" alt=\"Open In Colab\"/></a>"
      ]
    },
    {
      "cell_type": "markdown",
      "metadata": {
        "id": "2xG5T_QJqjhN",
        "colab_type": "text"
      },
      "source": [
        "**3.1**\n",
        "```\n",
        "Write a program to prompt the user for hours and rate per hour using raw_input to compute gross pay. Pay the hourly rate for\n",
        "the hours up to 40 and 1.5 times the hourly rate for all hours worked above 40 hours. Use 45 hours and a rate of 10.50 per hour\n",
        "to test the program (the pay should be 498.75). You should use raw_input to read a string and float() to convert the string to a\n",
        "number. Do not worry about error checking the user input - assume the user types numbers properly.\n",
        "```"
      ]
    },
    {
      "cell_type": "code",
      "metadata": {
        "id": "da4cLnHrqY5J",
        "colab_type": "code",
        "colab": {
          "base_uri": "https://localhost:8080/",
          "height": 68
        },
        "outputId": "e1a1f312-42b7-4dc5-aa9d-f1ca69722886"
      },
      "source": [
        "hrs = float(input(\"Enter Hours: \"))\n",
        "rat = float(input(\"Enter Rate: \"))\n",
        "if hrs > 40 :\n",
        "  pay = (hrs - 40) * 1.5 * rat + 40 * rat\n",
        "else:\n",
        "  pay = hrs * rat\n",
        "print(pay)\n",
        "\n",
        "# Desired Output:\n",
        "# 498.75"
      ],
      "execution_count": 3,
      "outputs": [
        {
          "output_type": "stream",
          "text": [
            "Enter Hours:45\n",
            "Enter Rate:10.50\n",
            "498.75\n"
          ],
          "name": "stdout"
        }
      ]
    },
    {
      "cell_type": "markdown",
      "metadata": {
        "id": "GMcpIP8LruCP",
        "colab_type": "text"
      },
      "source": [
        "**3.3**\n",
        "```\n",
        "Write a program to prompt for a score between 0.0 and 1.0. If the score is out of range, print an error. If the score is\n",
        "between 0.0 and 1.0, print a grade using the following table:\n",
        "Score Grade\n",
        ">= 0.9 A\n",
        ">= 0.8 B\n",
        ">= 0.7 C\n",
        ">= 0.6 D\n",
        "< 0.6 F\n",
        "If the user enters a value out of range, print a suitable error message and exit. For the test, enter a score of 0.85.\n",
        "```\n",
        "\n"
      ]
    },
    {
      "cell_type": "code",
      "metadata": {
        "id": "ZQm0h8fMsPYY",
        "colab_type": "code",
        "colab": {
          "base_uri": "https://localhost:8080/",
          "height": 51
        },
        "outputId": "6558ff27-4a7f-4878-afdd-d53bab35879e"
      },
      "source": [
        "score = float(input(\"Enter a score: \"))\n",
        "str = \"ABCDEF\"\n",
        "if score < 0 or score > 1.0 :\n",
        "  print(\"Error: Score out of range\")\n",
        "if score >= 0.9 :\n",
        "  print(str[0])\n",
        "elif score >= 0.8 :\n",
        "  print(str[1])\n",
        "elif score >= 0.7 :\n",
        "  print(str[2])\n",
        "elif score >= 0.6 :\n",
        "  print(str[3])\n",
        "else : \n",
        "  print(str[4])\n",
        "\n",
        "# Desired Output:\n",
        "# B\n"
      ],
      "execution_count": 7,
      "outputs": [
        {
          "output_type": "stream",
          "text": [
            "Enter a score:0.85\n",
            "B\n"
          ],
          "name": "stdout"
        }
      ]
    },
    {
      "cell_type": "markdown",
      "metadata": {
        "id": "50I7Ha7uuL3X",
        "colab_type": "text"
      },
      "source": [
        "**4.6**\n",
        "```\n",
        "Write a program to prompt the user for hours and rate per hour using raw_input to compute gross pay. Award time-and-a-half\n",
        "for the hourly rate for all hours worked above 40 hours. Put the logic to do the computation of time-and-a-half in a function\n",
        "called computepay() and use the function to do the computation. The function should return a value. Use 45 hours and a rate of\n",
        "10.50 per hour to test the program (the pay should be 498.75). You should use raw_input to read a string and float() to convert\n",
        "the string to a number. Do not worry about error checking the user input unless you want to - you can assume the user types\n",
        "numbers properly.\n",
        "```"
      ]
    },
    {
      "cell_type": "code",
      "metadata": {
        "id": "CwnheAW3ufZz",
        "colab_type": "code",
        "colab": {
          "base_uri": "https://localhost:8080/",
          "height": 68
        },
        "outputId": "1d19d511-3c9c-4051-b7a3-d73877b46eea"
      },
      "source": [
        "def computepay(h,r) :\n",
        "  if h > 40 :\n",
        "    return (h - 40) * r * 1.5 + 40 * r\n",
        "  else :\n",
        "    return h * r\n",
        "\n",
        "hrs = float(input(\"Enter Hours: \"))\n",
        "rat = float(input(\"Enter rate: \"))\n",
        "pay = computepay(hrs, rat)\n",
        "print(pay)\n",
        "    \n",
        "# Desired Output\n",
        "# 498.75"
      ],
      "execution_count": 12,
      "outputs": [
        {
          "output_type": "stream",
          "text": [
            "Enter Hours: 45\n",
            "Enter rate: 10.50\n",
            "498.75\n"
          ],
          "name": "stdout"
        }
      ]
    },
    {
      "cell_type": "markdown",
      "metadata": {
        "id": "0fwOARvXvQE6",
        "colab_type": "text"
      },
      "source": [
        "**5.2**\n",
        "\n",
        "\n",
        "```\n",
        "Write a program that repeatedly prompts a user for integer numbers until the user enters 'done'. Once 'done' is entered,\n",
        "print out the largest and smallest of the numbers. If the user enters anything other than a valid number catch it with a try\n",
        "/except and put out an appropriate message and ignore the number. Enter the numbers from the book for problem 5.1 and Match the\n",
        "desired output as shown.\n",
        "\n",
        "Enter a number: 4\n",
        "Enter a number: 5\n",
        "Enter a number: bad data\n",
        "Invalid input\n",
        "Enter a number: 7\n",
        "Enter a number: done\n",
        "\n",
        "```\n",
        "\n"
      ]
    },
    {
      "cell_type": "code",
      "metadata": {
        "id": "cKpjuKX6vi3K",
        "colab_type": "code",
        "colab": {
          "base_uri": "https://localhost:8080/",
          "height": 153
        },
        "outputId": "f59fcd94-92ab-4666-a1c2-d69118368d4f"
      },
      "source": [
        "largest = None\n",
        "smallest = None\n",
        "while True:\n",
        "    num = input(\"Enter a number: \")\n",
        "    if num == \"done\" : \n",
        "      break\n",
        "    try:\n",
        "        num = int(num)\n",
        "    except:\n",
        "        print(\"Invalid input\")\n",
        "        continue\n",
        "    if smallest is None or smallest > num :\n",
        "        smallest = num\n",
        "    if largest is None or largest < num :\n",
        "        largest = num\n",
        "\n",
        "print(\"Maximum is\", largest)\n",
        "print(\"Minimum is\", smallest)"
      ],
      "execution_count": 11,
      "outputs": [
        {
          "output_type": "stream",
          "text": [
            "Enter a number: 4\n",
            "Enter a number: 5\n",
            "Enter a number: bad data\n",
            "Invalid input\n",
            "Enter a number: 7\n",
            "Enter a number: done\n",
            "Maximum is 7\n",
            "Minimum is 4\n"
          ],
          "name": "stdout"
        }
      ]
    }
  ]
}