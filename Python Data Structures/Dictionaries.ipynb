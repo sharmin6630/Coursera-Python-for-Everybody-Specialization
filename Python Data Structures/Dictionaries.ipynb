{
  "nbformat": 4,
  "nbformat_minor": 0,
  "metadata": {
    "colab": {
      "name": "Dictionaries.ipynb",
      "provenance": [],
      "collapsed_sections": [],
      "toc_visible": true,
      "authorship_tag": "ABX9TyNz5SzRePlcJ9ld1AGL5GOg",
      "include_colab_link": true
    },
    "kernelspec": {
      "name": "python3",
      "display_name": "Python 3"
    }
  },
  "cells": [
    {
      "cell_type": "markdown",
      "metadata": {
        "id": "view-in-github",
        "colab_type": "text"
      },
      "source": [
        "<a href=\"https://colab.research.google.com/github/sharmin6630/Python-for-Everybody/blob/master/Python%20Data%20Structures/Dictionaries.ipynb\" target=\"_parent\"><img src=\"https://colab.research.google.com/assets/colab-badge.svg\" alt=\"Open In Colab\"/></a>"
      ]
    },
    {
      "cell_type": "markdown",
      "metadata": {
        "id": "EYbiEKQV5H93",
        "colab_type": "text"
      },
      "source": [
        "# **Dictionaries**"
      ]
    },
    {
      "cell_type": "code",
      "metadata": {
        "id": "bnGHyDE0oGHN",
        "colab_type": "code",
        "outputId": "30347b4a-7293-46c1-df04-b5356efd7710",
        "colab": {
          "base_uri": "https://localhost:8080/",
          "height": 122
        }
      },
      "source": [
        "import os\n",
        "from pathlib import Path\n",
        "from google.colab import drive\n",
        "drive.mount('/content/gdrive')"
      ],
      "execution_count": 1,
      "outputs": [
        {
          "output_type": "stream",
          "text": [
            "Go to this URL in a browser: https://accounts.google.com/o/oauth2/auth?client_id=947318989803-6bn6qk8qdgf4n4g3pfee6491hc0brc4i.apps.googleusercontent.com&redirect_uri=urn%3aietf%3awg%3aoauth%3a2.0%3aoob&response_type=code&scope=email%20https%3a%2f%2fwww.googleapis.com%2fauth%2fdocs.test%20https%3a%2f%2fwww.googleapis.com%2fauth%2fdrive%20https%3a%2f%2fwww.googleapis.com%2fauth%2fdrive.photos.readonly%20https%3a%2f%2fwww.googleapis.com%2fauth%2fpeopleapi.readonly\n",
            "\n",
            "Enter your authorization code:\n",
            "··········\n",
            "Mounted at /content/gdrive\n"
          ],
          "name": "stdout"
        }
      ]
    },
    {
      "cell_type": "code",
      "metadata": {
        "id": "XphBxGO77eOt",
        "colab_type": "code",
        "colab": {
          "base_uri": "https://localhost:8080/",
          "height": 85
        },
        "outputId": "706e86f6-e365-4770-e2aa-fbad1220d2e3"
      },
      "source": [
        "data = dict()\n",
        "data['one'] = 1\n",
        "data['two'] = 2\n",
        "data['three'] = 3\n",
        "print(data)\n",
        "for key in data :\n",
        "  print(key, data[key])"
      ],
      "execution_count": 8,
      "outputs": [
        {
          "output_type": "stream",
          "text": [
            "{'one': 1, 'two': 2, 'three': 3}\n",
            "one 1\n",
            "two 2\n",
            "three 3\n"
          ],
          "name": "stdout"
        }
      ]
    },
    {
      "cell_type": "code",
      "metadata": {
        "id": "mYMeFqw2-TvO",
        "colab_type": "code",
        "colab": {
          "base_uri": "https://localhost:8080/",
          "height": 119
        },
        "outputId": "b11c598e-11ec-4961-f940-19733354e12e"
      },
      "source": [
        "x = data.get('three', 0)\n",
        "print(x)\n",
        "x = data.get('four', 0)\n",
        "print(x)\n",
        "print(list(data))\n",
        "print(data.keys())\n",
        "print(data.values())\n",
        "print(data.items())"
      ],
      "execution_count": 11,
      "outputs": [
        {
          "output_type": "stream",
          "text": [
            "3\n",
            "0\n",
            "['one', 'two', 'three']\n",
            "dict_keys(['one', 'two', 'three'])\n",
            "dict_values([1, 2, 3])\n",
            "dict_items([('one', 1), ('two', 2), ('three', 3)])\n"
          ],
          "name": "stdout"
        }
      ]
    },
    {
      "cell_type": "code",
      "metadata": {
        "id": "I2klGQfHA4Dv",
        "colab_type": "code",
        "colab": {
          "base_uri": "https://localhost:8080/",
          "height": 68
        },
        "outputId": "39cb5730-8c83-4182-8657-cdd48599561f"
      },
      "source": [
        "for key, value in data.items() :\n",
        "  print(key, value)"
      ],
      "execution_count": 14,
      "outputs": [
        {
          "output_type": "stream",
          "text": [
            "one 1\n",
            "two 2\n",
            "three 3\n"
          ],
          "name": "stdout"
        }
      ]
    },
    {
      "cell_type": "markdown",
      "metadata": {
        "id": "stfZY01ENCNO",
        "colab_type": "text"
      },
      "source": [
        "# **Assignments**"
      ]
    },
    {
      "cell_type": "markdown",
      "metadata": {
        "id": "PRGvKSznNGND",
        "colab_type": "text"
      },
      "source": [
        "**9.4**\n",
        "\n",
        "\n",
        "\n",
        "```\n",
        "Write a program to read through the mbox-short.txt and figure out who has sent \n",
        "the greatest number of mail messages. The program looks for 'From ' lines and \n",
        "takes the second word of those lines as the person who sent the mail. The \n",
        "program creates a Python dictionary that maps the sender's mail address to a \n",
        "count of the number of times they appear in the file. After the dictionary is \n",
        "produced, the program reads through the dictionary using a maximum loop to find \n",
        "the most prolific committer.\n",
        "```\n",
        "\n"
      ]
    },
    {
      "cell_type": "code",
      "metadata": {
        "id": "057pwMv-NYBQ",
        "colab_type": "code",
        "colab": {
          "base_uri": "https://localhost:8080/",
          "height": 51
        },
        "outputId": "302d95ba-32c5-47ed-dc15-9343ecc4b0f7"
      },
      "source": [
        "fname = open(input(\"Enter file name: \"))\n",
        "data = dict()\n",
        "for line in fname :\n",
        "  if line.startswith(\"From \"):\n",
        "    line = line.strip()\n",
        "    temp = line.split()\n",
        "    data[temp[1]] = data.get(temp[1], 0) + 1\n",
        "max_address = None\n",
        "max_cnt = None\n",
        "for key, value in data.items() :\n",
        "  if max_cnt is None or max_cnt < value :\n",
        "    max_address = key\n",
        "    max_cnt = value\n",
        "print(max_address, max_cnt)"
      ],
      "execution_count": 19,
      "outputs": [
        {
          "output_type": "stream",
          "text": [
            "Enter file name: /content/sample_data/mbox-short.txt\n",
            "cwen@iupui.edu 5\n"
          ],
          "name": "stdout"
        }
      ]
    }
  ]
}