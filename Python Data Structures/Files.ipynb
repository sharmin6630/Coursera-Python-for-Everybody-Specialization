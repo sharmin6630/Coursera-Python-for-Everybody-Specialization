{
  "nbformat": 4,
  "nbformat_minor": 0,
  "metadata": {
    "colab": {
      "name": "Files.ipynb",
      "provenance": [],
      "toc_visible": true,
      "authorship_tag": "ABX9TyMcPkDFlLiMTHg1eprJfGnA",
      "include_colab_link": true
    },
    "kernelspec": {
      "name": "python3",
      "display_name": "Python 3"
    }
  },
  "cells": [
    {
      "cell_type": "markdown",
      "metadata": {
        "id": "view-in-github",
        "colab_type": "text"
      },
      "source": [
        "<a href=\"https://colab.research.google.com/github/sharmin6630/Python-for-Everybody/blob/master/Python%20Data%20Structures/Files.ipynb\" target=\"_parent\"><img src=\"https://colab.research.google.com/assets/colab-badge.svg\" alt=\"Open In Colab\"/></a>"
      ]
    },
    {
      "cell_type": "markdown",
      "metadata": {
        "id": "S12RAbROZp5L",
        "colab_type": "text"
      },
      "source": [
        "# **Files processing**"
      ]
    },
    {
      "cell_type": "code",
      "metadata": {
        "id": "l35yJL4IYMPZ",
        "colab_type": "code",
        "colab": {
          "base_uri": "https://localhost:8080/",
          "height": 122
        },
        "outputId": "2bd81b07-b3f6-400d-cf4c-d28c1868917b"
      },
      "source": [
        "import os\n",
        "from pathlib import Path\n",
        "from google.colab import drive\n",
        "drive.mount('/content/gdrive')"
      ],
      "execution_count": 2,
      "outputs": [
        {
          "output_type": "stream",
          "text": [
            "Go to this URL in a browser: https://accounts.google.com/o/oauth2/auth?client_id=947318989803-6bn6qk8qdgf4n4g3pfee6491hc0brc4i.apps.googleusercontent.com&redirect_uri=urn%3aietf%3awg%3aoauth%3a2.0%3aoob&response_type=code&scope=email%20https%3a%2f%2fwww.googleapis.com%2fauth%2fdocs.test%20https%3a%2f%2fwww.googleapis.com%2fauth%2fdrive%20https%3a%2f%2fwww.googleapis.com%2fauth%2fdrive.photos.readonly%20https%3a%2f%2fwww.googleapis.com%2fauth%2fpeopleapi.readonly\n",
            "\n",
            "Enter your authorization code:\n",
            "··········\n",
            "Mounted at /content/gdrive\n"
          ],
          "name": "stdout"
        }
      ]
    },
    {
      "cell_type": "code",
      "metadata": {
        "id": "yTpgaFDgbaI7",
        "colab_type": "code",
        "colab": {
          "base_uri": "https://localhost:8080/",
          "height": 136
        },
        "outputId": "a98cccb7-a858-46dc-9842-3898f5d8277a"
      },
      "source": [
        "file1 = open('/content/sample_data/file.txt')\n",
        "print(file1)\n",
        "for line in file1 :\n",
        "  print(line)"
      ],
      "execution_count": 20,
      "outputs": [
        {
          "output_type": "stream",
          "text": [
            "<_io.TextIOWrapper name='/content/sample_data/file.txt' mode='r' encoding='UTF-8'>\n",
            "Line one !!!\n",
            "\n",
            "Line two !!!\n",
            "\n",
            "Line three !!!\n",
            "0\n"
          ],
          "name": "stdout"
        }
      ]
    },
    {
      "cell_type": "code",
      "metadata": {
        "id": "TQobqI9xf1IU",
        "colab_type": "code",
        "colab": {
          "base_uri": "https://localhost:8080/",
          "height": 85
        },
        "outputId": "4ee0c028-1df4-44ab-fbd7-b4cb58565da6"
      },
      "source": [
        "file1 = open('/content/sample_data/file.txt')\n",
        "print(file1)\n",
        "for line in file1 :\n",
        "  line = line.strip()\n",
        "  print(line)"
      ],
      "execution_count": 26,
      "outputs": [
        {
          "output_type": "stream",
          "text": [
            "<_io.TextIOWrapper name='/content/sample_data/file.txt' mode='r' encoding='UTF-8'>\n",
            "Line one !!!\n",
            "Line two !!!\n",
            "Line three !!!\n"
          ],
          "name": "stdout"
        }
      ]
    },
    {
      "cell_type": "code",
      "metadata": {
        "id": "GbJHFsn6dJKY",
        "colab_type": "code",
        "colab": {
          "base_uri": "https://localhost:8080/",
          "height": 68
        },
        "outputId": "03e077ec-c2fa-430b-9696-cccc812346b5"
      },
      "source": [
        "file_1 = open('/content/sample_data/file.txt')\n",
        "f_read = file_1.read()\n",
        "print(len(f_read))\n",
        "print(f_read[:24])"
      ],
      "execution_count": 25,
      "outputs": [
        {
          "output_type": "stream",
          "text": [
            "40\n",
            "Line one !!!\n",
            "Line two !!\n"
          ],
          "name": "stdout"
        }
      ]
    },
    {
      "cell_type": "markdown",
      "metadata": {
        "id": "n2KPcEnQZxUP",
        "colab_type": "text"
      },
      "source": [
        "# **Assignments**"
      ]
    },
    {
      "cell_type": "markdown",
      "metadata": {
        "id": "YHNeKXAQjOwk",
        "colab_type": "text"
      },
      "source": [
        "**7.1**\n",
        "\n",
        "```\n",
        "Write a program that prompts for a file name, then opens that file and reads through the file, \n",
        "and print the contents of the file in upper case. Use the file words.txt to produce the output below.\n",
        "You can download the sample data at http://www.py4e.com/code3/words.txt\n",
        "```\n",
        "\n"
      ]
    },
    {
      "cell_type": "code",
      "metadata": {
        "id": "rQzBTPwoi-Iu",
        "colab_type": "code",
        "colab": {}
      },
      "source": [
        "# Use words.txt as the file name\n",
        "fname = open(input(\"Enter file name: \"))\n",
        "for line in fname :\n",
        "    line = line.rstrip()\n",
        "    line = line.upper()\n",
        "    print(line)"
      ],
      "execution_count": 0,
      "outputs": []
    },
    {
      "cell_type": "markdown",
      "metadata": {
        "id": "Y7drnsp4jwgO",
        "colab_type": "text"
      },
      "source": [
        "**7.2**\n",
        "\n",
        "\n",
        "```\n",
        "Write a program that prompts for a file name, then opens that file and reads through the file, \n",
        "looking for lines of the form:\n",
        "X-DSPAM-Confidence:    0.8475\n",
        "Count these lines and extract the floating point values from each of the lines\n",
        " and compute the average of those values and produce an output as shown below. \n",
        " Do not use the sum() function or a variable named sum in your solution.\n",
        "You can download the sample data at http://www.py4e.com/code3/mbox-short.txt \n",
        "when you are testing below enter mbox-short.txt as the file name.\n",
        "```\n",
        "\n"
      ]
    },
    {
      "cell_type": "code",
      "metadata": {
        "id": "WKZ65tD3l7gy",
        "colab_type": "code",
        "colab": {}
      },
      "source": [
        "# Use the file name mbox-short.txt as the file name\n",
        "fname = open(input(\"Enter file name: \"))\n",
        "avg = 0.0\n",
        "cnt = 0.0\n",
        "for line in fname:\n",
        "    if line.startswith(\"X-DSPAM-Confidence:\") : \n",
        "        pos = line.find(' ')\n",
        "        num = line[pos :]\n",
        "        num = num.strip()\n",
        "        num = float(num)\n",
        "        avg += num\n",
        "        cnt += 1\n",
        "        \n",
        "print(\"Average spam confidence:\", avg/cnt)"
      ],
      "execution_count": 0,
      "outputs": []
    }
  ]
}