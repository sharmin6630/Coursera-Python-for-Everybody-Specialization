{
  "nbformat": 4,
  "nbformat_minor": 0,
  "metadata": {
    "colab": {
      "name": "Lists.ipynb",
      "provenance": [],
      "authorship_tag": "ABX9TyPaBazQUROX6tRmAZaOLc86",
      "include_colab_link": true
    },
    "kernelspec": {
      "name": "python3",
      "display_name": "Python 3"
    }
  },
  "cells": [
    {
      "cell_type": "markdown",
      "metadata": {
        "id": "view-in-github",
        "colab_type": "text"
      },
      "source": [
        "<a href=\"https://colab.research.google.com/github/sharmin6630/Python-for-Everybody/blob/master/Python%20Data%20Structures/Lists.ipynb\" target=\"_parent\"><img src=\"https://colab.research.google.com/assets/colab-badge.svg\" alt=\"Open In Colab\"/></a>"
      ]
    },
    {
      "cell_type": "markdown",
      "metadata": {
        "id": "BYLBdDYnoeHP",
        "colab_type": "text"
      },
      "source": [
        "# **Lists**"
      ]
    },
    {
      "cell_type": "code",
      "metadata": {
        "id": "bnGHyDE0oGHN",
        "colab_type": "code",
        "colab": {
          "base_uri": "https://localhost:8080/",
          "height": 122
        },
        "outputId": "f56e7ef8-1666-49ea-f449-e67d194d04a8"
      },
      "source": [
        "import os\n",
        "from pathlib import Path\n",
        "from google.colab import drive\n",
        "drive.mount('/content/gdrive')"
      ],
      "execution_count": 1,
      "outputs": [
        {
          "output_type": "stream",
          "text": [
            "Go to this URL in a browser: https://accounts.google.com/o/oauth2/auth?client_id=947318989803-6bn6qk8qdgf4n4g3pfee6491hc0brc4i.apps.googleusercontent.com&redirect_uri=urn%3aietf%3awg%3aoauth%3a2.0%3aoob&response_type=code&scope=email%20https%3a%2f%2fwww.googleapis.com%2fauth%2fdocs.test%20https%3a%2f%2fwww.googleapis.com%2fauth%2fdrive%20https%3a%2f%2fwww.googleapis.com%2fauth%2fdrive.photos.readonly%20https%3a%2f%2fwww.googleapis.com%2fauth%2fpeopleapi.readonly\n",
            "\n",
            "Enter your authorization code:\n",
            "··········\n",
            "Mounted at /content/gdrive\n"
          ],
          "name": "stdout"
        }
      ]
    },
    {
      "cell_type": "code",
      "metadata": {
        "id": "f3-Y1DLrqfrO",
        "colab_type": "code",
        "colab": {
          "base_uri": "https://localhost:8080/",
          "height": 102
        },
        "outputId": "5daff102-b4d0-40bb-ea7d-c3bb2a05183d"
      },
      "source": [
        "l1 = ['abb', 'bcc', 'cddd', 123, 45.78, ['abdf', 45.89], 'ends']\n",
        "print(l1)\n",
        "print(len(l1))\n",
        "print(l1[5])\n",
        "print(l1[5][0])\n",
        "print(l1[5][0][0:2])"
      ],
      "execution_count": 24,
      "outputs": [
        {
          "output_type": "stream",
          "text": [
            "['abb', 'bcc', 'cddd', 123, 45.78, ['abdf', 45.89], 'ends']\n",
            "7\n",
            "['abdf', 45.89]\n",
            "abdf\n",
            "ab\n"
          ],
          "name": "stdout"
        }
      ]
    },
    {
      "cell_type": "code",
      "metadata": {
        "id": "4eC12FkGsTcR",
        "colab_type": "code",
        "colab": {
          "base_uri": "https://localhost:8080/",
          "height": 153
        },
        "outputId": "c7ca0aac-6120-46a9-ee56-78f25e1b635d"
      },
      "source": [
        "print(range(len(l1)))\n",
        "for i in range(len(l1)) :\n",
        "  element = l1[i]\n",
        "  print(i, element)"
      ],
      "execution_count": 21,
      "outputs": [
        {
          "output_type": "stream",
          "text": [
            "range(0, 7)\n",
            "0 abb\n",
            "1 bcc\n",
            "2 cddd\n",
            "3 123\n",
            "4 45.78\n",
            "5 ['abdf', 45.89]\n",
            "6 ends\n"
          ],
          "name": "stdout"
        }
      ]
    },
    {
      "cell_type": "code",
      "metadata": {
        "id": "3ZgEqtxluRfD",
        "colab_type": "code",
        "colab": {
          "base_uri": "https://localhost:8080/",
          "height": 68
        },
        "outputId": "66a9901c-724a-4fa2-aeb0-1f55ae3ea80c"
      },
      "source": [
        "l2 = ['errr', 'thfdg', 'fgdf']\n",
        "l1 = l1 + l2\n",
        "print(l1)\n",
        "print(l1[:4])\n",
        "print(l1[8:])"
      ],
      "execution_count": 25,
      "outputs": [
        {
          "output_type": "stream",
          "text": [
            "['abb', 'bcc', 'cddd', 123, 45.78, ['abdf', 45.89], 'ends', 'errr', 'thfdg', 'fgdf']\n",
            "['abb', 'bcc', 'cddd', 123]\n",
            "['thfdg', 'fgdf']\n"
          ],
          "name": "stdout"
        }
      ]
    },
    {
      "cell_type": "code",
      "metadata": {
        "id": "etp2k5eKwv-e",
        "colab_type": "code",
        "colab": {
          "base_uri": "https://localhost:8080/",
          "height": 34
        },
        "outputId": "21d87e17-522a-406f-d287-1a7392c6725f"
      },
      "source": [
        "l2.sort()\n",
        "print(l2)"
      ],
      "execution_count": 34,
      "outputs": [
        {
          "output_type": "stream",
          "text": [
            "['errr', 'fgdf', 'thfdg']\n"
          ],
          "name": "stdout"
        }
      ]
    },
    {
      "cell_type": "code",
      "metadata": {
        "id": "CYq_oJtNu83y",
        "colab_type": "code",
        "colab": {
          "base_uri": "https://localhost:8080/",
          "height": 71
        },
        "outputId": "d323ec47-f402-420d-c80f-8dc109e2ed35"
      },
      "source": [
        "print(type(l1))\n",
        "print(dir(l1))"
      ],
      "execution_count": 27,
      "outputs": [
        {
          "output_type": "stream",
          "text": [
            "<class 'list'>\n",
            "['__add__', '__class__', '__contains__', '__delattr__', '__delitem__', '__dir__', '__doc__', '__eq__', '__format__', '__ge__', '__getattribute__', '__getitem__', '__gt__', '__hash__', '__iadd__', '__imul__', '__init__', '__init_subclass__', '__iter__', '__le__', '__len__', '__lt__', '__mul__', '__ne__', '__new__', '__reduce__', '__reduce_ex__', '__repr__', '__reversed__', '__rmul__', '__setattr__', '__setitem__', '__sizeof__', '__str__', '__subclasshook__', 'append', 'clear', 'copy', 'count', 'extend', 'index', 'insert', 'pop', 'remove', 'reverse', 'sort']\n"
          ],
          "name": "stdout"
        }
      ]
    },
    {
      "cell_type": "code",
      "metadata": {
        "id": "_OKHCqUpvOBu",
        "colab_type": "code",
        "colab": {
          "base_uri": "https://localhost:8080/",
          "height": 119
        },
        "outputId": "ad5d6a26-fe8b-4167-dded-86c4af4421dd"
      },
      "source": [
        "i = 0\n",
        "lst = list()\n",
        "while i < 5 :\n",
        "  element = input(\"Enter a element: \")\n",
        "  lst.append(element)\n",
        "  i += 1\n",
        "print(lst)\n"
      ],
      "execution_count": 29,
      "outputs": [
        {
          "output_type": "stream",
          "text": [
            "Enter a element: a\n",
            "Enter a element: b\n",
            "Enter a element: c\n",
            "Enter a element: d\n",
            "Enter a element: e\n",
            "['a', 'b', 'c', 'd', 'e']\n"
          ],
          "name": "stdout"
        }
      ]
    },
    {
      "cell_type": "code",
      "metadata": {
        "id": "ih0OXGwNwBow",
        "colab_type": "code",
        "colab": {
          "base_uri": "https://localhost:8080/",
          "height": 51
        },
        "outputId": "6a44bfe5-a6cf-48d2-b7ae-9b6ed358756a"
      },
      "source": [
        "print('a' in lst)\n",
        "print('z' in lst)"
      ],
      "execution_count": 32,
      "outputs": [
        {
          "output_type": "stream",
          "text": [
            "True\n",
            "False\n"
          ],
          "name": "stdout"
        }
      ]
    },
    {
      "cell_type": "code",
      "metadata": {
        "id": "q_6zp2w0xvi_",
        "colab_type": "code",
        "colab": {
          "base_uri": "https://localhost:8080/",
          "height": 51
        },
        "outputId": "d2132926-b9cc-4363-82e0-b255116e29fa"
      },
      "source": [
        "str = 'Here goes another example'\n",
        "str_to_lst = str.split()\n",
        "print(str_to_lst)\n",
        "str = 'Here,goes,another,example'\n",
        "str_to_lst = str.split(',')\n",
        "print(str_to_lst)"
      ],
      "execution_count": 36,
      "outputs": [
        {
          "output_type": "stream",
          "text": [
            "['Here', 'goes', 'another', 'example']\n",
            "['Here', 'goes', 'another', 'example']\n"
          ],
          "name": "stdout"
        }
      ]
    },
    {
      "cell_type": "markdown",
      "metadata": {
        "id": "6RUxoTnssSX8",
        "colab_type": "text"
      },
      "source": [
        "# **Assignments**"
      ]
    },
    {
      "cell_type": "markdown",
      "metadata": {
        "id": "VUSEq_A-0CRm",
        "colab_type": "text"
      },
      "source": [
        "**8.4**\n",
        "\n",
        "\n",
        "```\n",
        "Open the file romeo.txt and read it line by line. For each line, split the line into a list of words using the split() method. \n",
        "The program should build a list of words. For each word on each line check to see if the word is already in the list and if not \n",
        "append it to the list. When the program completes, sort and print the resulting words in alphabetical order.\n",
        "You can download the sample data at http://www.py4e.com/code3/romeo.txt\n",
        "```\n",
        "\n"
      ]
    },
    {
      "cell_type": "code",
      "metadata": {
        "id": "jmYJhc4n0R8Z",
        "colab_type": "code",
        "colab": {}
      },
      "source": [
        "fname = open(input(\"Enter file name: \"))\n",
        "lst = list()\n",
        "for line in fname :\n",
        "  line = line.strip()\n",
        "  temp = line.split()\n",
        "  for word in temp :\n",
        "    if word in lst :\n",
        "      continue\n",
        "    lst.append(word)\n",
        "lst.sort()\n",
        "print(lst)"
      ],
      "execution_count": 0,
      "outputs": []
    },
    {
      "cell_type": "markdown",
      "metadata": {
        "id": "_cqD9P4V2Ydl",
        "colab_type": "text"
      },
      "source": [
        "**8.5**\n",
        "\n",
        "\n",
        "```\n",
        "Open the file mbox-short.txt and read it line by line. When you find a line that starts with \n",
        "'From ' like the following line:\n",
        "From stephen.marquard@uct.ac.za Sat Jan  5 09:14:16 2008\n",
        "You will parse the From line using split() and print out the second word in the line \n",
        "(i.e. the entire address of the person who sent the message). Then print out a count at the end.\n",
        "Hint: make sure not to include the lines that start with 'From:'.\n",
        "\n",
        "You can download the sample data at http://www.py4e.com/code3/mbox-short.txt\n",
        "```\n",
        "\n"
      ]
    },
    {
      "cell_type": "code",
      "metadata": {
        "colab_type": "code",
        "id": "rM0vXXUe3IMM",
        "colab": {}
      },
      "source": [
        "fname = open(input(\"Enter file name: \"))\n",
        "cnt = 0\n",
        "lst = list()\n",
        "for line in fname :\n",
        "  if line.startswith('From ') :\n",
        "    line = line.strip()\n",
        "    temp = line.split()\n",
        "    lst.append(temp[1])\n",
        "    cnt += 1\n",
        "for address in lst :\n",
        "  print(address)\n",
        "print(\"There were\", cnt, \"lines in the file with From as the first word\")"
      ],
      "execution_count": 0,
      "outputs": []
    }
  ]
}