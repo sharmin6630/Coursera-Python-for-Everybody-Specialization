{
  "nbformat": 4,
  "nbformat_minor": 0,
  "metadata": {
    "colab": {
      "name": "Strings.ipynb",
      "provenance": [],
      "authorship_tag": "ABX9TyMoqJEt0HRcezGQITpfAAFP",
      "include_colab_link": true
    },
    "kernelspec": {
      "name": "python3",
      "display_name": "Python 3"
    }
  },
  "cells": [
    {
      "cell_type": "markdown",
      "metadata": {
        "id": "view-in-github",
        "colab_type": "text"
      },
      "source": [
        "<a href=\"https://colab.research.google.com/github/sharmin6630/Python-for-Everybody/blob/master/Python%20Data%20Structures/Strings.ipynb\" target=\"_parent\"><img src=\"https://colab.research.google.com/assets/colab-badge.svg\" alt=\"Open In Colab\"/></a>"
      ]
    },
    {
      "cell_type": "markdown",
      "metadata": {
        "id": "bkvf1cMNJDzt",
        "colab_type": "text"
      },
      "source": [
        "# **String manipulation**"
      ]
    },
    {
      "cell_type": "code",
      "metadata": {
        "id": "bvGEiaKXIKbw",
        "colab_type": "code",
        "colab": {
          "base_uri": "https://localhost:8080/",
          "height": 136
        },
        "outputId": "37d6343f-f69a-4196-c0ee-2d7908fdfad9"
      },
      "source": [
        "str = \"Hello World\"\n",
        "print(len(str))\n",
        "low_str = str.lower()\n",
        "print(\"str:\", str, \"\\nlow_str:\", low_str)\n",
        "pos = str.find('lo')\n",
        "print(pos)\n",
        "pos = str.find('z')\n",
        "print(pos)\n",
        "str_replace = str.replace('World', 'Universe')\n",
        "print(\"str:\", str, \"\\nstr_replace:\", str_replace)\n",
        "#type(str) --> this will print the class type\n",
        "#dir(str) --> this will print what can be done with this class"
      ],
      "execution_count": 10,
      "outputs": [
        {
          "output_type": "stream",
          "text": [
            "11\n",
            "str: Hello World \n",
            "low_str: hello world\n",
            "3\n",
            "-1\n",
            "str: Hello World \n",
            "str_replace: Hello Universe\n"
          ],
          "name": "stdout"
        }
      ]
    },
    {
      "cell_type": "code",
      "metadata": {
        "id": "5f7wTuwzLvG6",
        "colab_type": "code",
        "colab": {
          "base_uri": "https://localhost:8080/",
          "height": 68
        },
        "outputId": "0d9caff1-b690-4232-d4bc-ef7e82f31bc2"
      },
      "source": [
        "str = \"    hey there    \"\n",
        "print(str)\n",
        "str_ls = str.lstrip()\n",
        "print(str_ls)\n",
        "str_rs = str.rstrip()\n",
        "print(str_rs)"
      ],
      "execution_count": 12,
      "outputs": [
        {
          "output_type": "stream",
          "text": [
            "    hey there    \n",
            "hey there    \n",
            "    hey there\n"
          ],
          "name": "stdout"
        }
      ]
    },
    {
      "cell_type": "code",
      "metadata": {
        "id": "-Os8FPlfMYd_",
        "colab_type": "code",
        "colab": {
          "base_uri": "https://localhost:8080/",
          "height": 51
        },
        "outputId": "b03d1242-5b1b-43ee-9961-65d2763814a1"
      },
      "source": [
        "str = \"What's going on!!\"\n",
        "print(str.startswith('W'))\n",
        "print(str.startswith('w'))"
      ],
      "execution_count": 15,
      "outputs": [
        {
          "output_type": "stream",
          "text": [
            "True\n",
            "False\n"
          ],
          "name": "stdout"
        }
      ]
    },
    {
      "cell_type": "code",
      "metadata": {
        "id": "RmWUeaSqNSh-",
        "colab_type": "code",
        "colab": {
          "base_uri": "https://localhost:8080/",
          "height": 68
        },
        "outputId": "e5d2926c-101e-45b8-f875-107225c121fc"
      },
      "source": [
        "data = \"testing an email address: abc@bd.edu from inbox\"\n",
        "host = data.find('@')\n",
        "print(host)\n",
        "next_space = data.find(' ', host + 1)\n",
        "print(next_space)\n",
        "host_address = data[host + 1 : next_space]\n",
        "print(host_address)"
      ],
      "execution_count": 18,
      "outputs": [
        {
          "output_type": "stream",
          "text": [
            "29\n",
            "36\n",
            "bd.edu\n"
          ],
          "name": "stdout"
        }
      ]
    },
    {
      "cell_type": "code",
      "metadata": {
        "id": "TUeqEJgKQC9a",
        "colab_type": "code",
        "colab": {
          "base_uri": "https://localhost:8080/",
          "height": 34
        },
        "outputId": "0eaed8af-295b-4491-ad27-b7a23cb7693b"
      },
      "source": [
        "x = 'From marquard@uct.ac.za'\n",
        "x[8]"
      ],
      "execution_count": 19,
      "outputs": [
        {
          "output_type": "execute_result",
          "data": {
            "text/plain": [
              "'q'"
            ]
          },
          "metadata": {
            "tags": []
          },
          "execution_count": 19
        }
      ]
    },
    {
      "cell_type": "markdown",
      "metadata": {
        "id": "x4Vg5GEVQ-th",
        "colab_type": "text"
      },
      "source": [
        "# **Assignments**"
      ]
    },
    {
      "cell_type": "markdown",
      "metadata": {
        "id": "0UskIe72QiOT",
        "colab_type": "text"
      },
      "source": [
        "**6.5**\n",
        "\n",
        "\n",
        "```\n",
        "Write code using find() and string slicing (see section 6.10) to extract the number at the end of the line below. \n",
        "Convert the extracted value to a floating point number and print it out.\n",
        "Input : \n",
        "X-DSPAM-Confidence:    0.8475\n",
        "Desired Output\n",
        "0.8475\n",
        "```\n",
        "\n"
      ]
    },
    {
      "cell_type": "code",
      "metadata": {
        "id": "GOMZ9cY_QhoF",
        "colab_type": "code",
        "colab": {
          "base_uri": "https://localhost:8080/",
          "height": 34
        },
        "outputId": "03747e70-8158-449e-ba3d-34151c1ab24f"
      },
      "source": [
        "text = \"X-DSPAM-Confidence:    0.8475\"\n",
        "pos = text.find(' ')\n",
        "num = text[pos : ]\n",
        "num = num.lstrip()\n",
        "num = float(num)\n",
        "print(num)"
      ],
      "execution_count": 22,
      "outputs": [
        {
          "output_type": "stream",
          "text": [
            "0.8475\n"
          ],
          "name": "stdout"
        }
      ]
    }
  ]
}