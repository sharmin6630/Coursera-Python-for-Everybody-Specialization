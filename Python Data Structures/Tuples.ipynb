{
  "nbformat": 4,
  "nbformat_minor": 0,
  "metadata": {
    "colab": {
      "name": "Tuples.ipynb",
      "provenance": [],
      "toc_visible": true,
      "authorship_tag": "ABX9TyPFN3kuUTx4oPALf84+1xKj",
      "include_colab_link": true
    },
    "kernelspec": {
      "name": "python3",
      "display_name": "Python 3"
    }
  },
  "cells": [
    {
      "cell_type": "markdown",
      "metadata": {
        "id": "view-in-github",
        "colab_type": "text"
      },
      "source": [
        "<a href=\"https://colab.research.google.com/github/sharmin6630/Python-for-Everybody/blob/master/Python%20Data%20Structures/Tuples.ipynb\" target=\"_parent\"><img src=\"https://colab.research.google.com/assets/colab-badge.svg\" alt=\"Open In Colab\"/></a>"
      ]
    },
    {
      "cell_type": "markdown",
      "metadata": {
        "id": "9rJZLeyAQ8Wz",
        "colab_type": "text"
      },
      "source": [
        "# **Tuples**"
      ]
    },
    {
      "cell_type": "code",
      "metadata": {
        "id": "3LCIw22PQ7hG",
        "colab_type": "code",
        "outputId": "3ad15c28-4162-4aac-d300-a12cbd449642",
        "colab": {
          "base_uri": "https://localhost:8080/",
          "height": 122
        }
      },
      "source": [
        "import os\n",
        "from pathlib import Path\n",
        "from google.colab import drive\n",
        "drive.mount('/content/gdrive')"
      ],
      "execution_count": 0,
      "outputs": [
        {
          "output_type": "stream",
          "text": [
            "Go to this URL in a browser: https://accounts.google.com/o/oauth2/auth?client_id=947318989803-6bn6qk8qdgf4n4g3pfee6491hc0brc4i.apps.googleusercontent.com&redirect_uri=urn%3aietf%3awg%3aoauth%3a2.0%3aoob&response_type=code&scope=email%20https%3a%2f%2fwww.googleapis.com%2fauth%2fdocs.test%20https%3a%2f%2fwww.googleapis.com%2fauth%2fdrive%20https%3a%2f%2fwww.googleapis.com%2fauth%2fdrive.photos.readonly%20https%3a%2f%2fwww.googleapis.com%2fauth%2fpeopleapi.readonly\n",
            "\n",
            "Enter your authorization code:\n",
            "··········\n",
            "Mounted at /content/gdrive\n"
          ],
          "name": "stdout"
        }
      ]
    },
    {
      "cell_type": "code",
      "metadata": {
        "id": "4lnabVtmRvJf",
        "colab_type": "code",
        "outputId": "ba096457-9e5f-43c2-c958-726511b5501b",
        "colab": {
          "base_uri": "https://localhost:8080/",
          "height": 54
        }
      },
      "source": [
        "tup = tuple()\n",
        "print(dir(tup))"
      ],
      "execution_count": 0,
      "outputs": [
        {
          "output_type": "stream",
          "text": [
            "['__add__', '__class__', '__contains__', '__delattr__', '__dir__', '__doc__', '__eq__', '__format__', '__ge__', '__getattribute__', '__getitem__', '__getnewargs__', '__gt__', '__hash__', '__init__', '__init_subclass__', '__iter__', '__le__', '__len__', '__lt__', '__mul__', '__ne__', '__new__', '__reduce__', '__reduce_ex__', '__repr__', '__rmul__', '__setattr__', '__sizeof__', '__str__', '__subclasshook__', 'count', 'index']\n"
          ],
          "name": "stdout"
        }
      ]
    },
    {
      "cell_type": "code",
      "metadata": {
        "id": "6FApqLunS3Ra",
        "colab_type": "code",
        "outputId": "eb89b136-f92d-4db9-ee54-1ec41a5bee7c",
        "colab": {
          "base_uri": "https://localhost:8080/",
          "height": 34
        }
      },
      "source": [
        "(0, 5, 9999) < (1, 4 , 567) #MSD"
      ],
      "execution_count": 0,
      "outputs": [
        {
          "output_type": "execute_result",
          "data": {
            "text/plain": [
              "True"
            ]
          },
          "metadata": {
            "tags": []
          },
          "execution_count": 3
        }
      ]
    },
    {
      "cell_type": "code",
      "metadata": {
        "id": "tAYBFc4rTVSK",
        "colab_type": "code",
        "outputId": "c3591f5c-713c-46d7-e594-af9f3f21da4b",
        "colab": {
          "base_uri": "https://localhost:8080/",
          "height": 51
        }
      },
      "source": [
        "data = dict()\n",
        "data['b'] = 45\n",
        "data['a'] = 53\n",
        "data['c'] = 49\n",
        "tup = data.items()\n",
        "print(tup)\n",
        "print(sorted(tup))"
      ],
      "execution_count": 32,
      "outputs": [
        {
          "output_type": "stream",
          "text": [
            "dict_items([('b', 45), ('a', 53), ('c', 49)])\n",
            "[('a', 53), ('b', 45), ('c', 49)]\n"
          ],
          "name": "stdout"
        }
      ]
    },
    {
      "cell_type": "code",
      "metadata": {
        "id": "c-jyHz1AefLZ",
        "colab_type": "code",
        "outputId": "47dd003b-cc3e-4f5c-8920-458f539f14d5",
        "colab": {
          "base_uri": "https://localhost:8080/",
          "height": 68
        }
      },
      "source": [
        "lst = list()\n",
        "for key, value in data.items() :\n",
        "  lst.append((value, key))\n",
        "print(lst)\n",
        "print(sorted(lst))\n",
        "print(sorted(lst, reverse = True))"
      ],
      "execution_count": 33,
      "outputs": [
        {
          "output_type": "stream",
          "text": [
            "[(45, 'b'), (53, 'a'), (49, 'c')]\n",
            "[(45, 'b'), (49, 'c'), (53, 'a')]\n",
            "[(53, 'a'), (49, 'c'), (45, 'b')]\n"
          ],
          "name": "stdout"
        }
      ]
    },
    {
      "cell_type": "code",
      "metadata": {
        "id": "fIvHyyz1gOFr",
        "colab_type": "code",
        "colab": {
          "base_uri": "https://localhost:8080/",
          "height": 51
        },
        "outputId": "2ecbf17f-7d07-43bb-dca6-815b94640f60"
      },
      "source": [
        "data = dict()\n",
        "data['bob'] = 45\n",
        "data['art'] = 53\n",
        "data['car'] = 49\n",
        "print(data)\n",
        "print(sorted([ (v, k) for k, v in data.items()]))\n"
      ],
      "execution_count": 36,
      "outputs": [
        {
          "output_type": "stream",
          "text": [
            "{'bob': 45, 'art': 53, 'car': 49}\n",
            "[(45, 'bob'), (49, 'car'), (53, 'art')]\n"
          ],
          "name": "stdout"
        }
      ]
    },
    {
      "cell_type": "markdown",
      "metadata": {
        "id": "heefpW13Vy_8",
        "colab_type": "text"
      },
      "source": [
        "# **Assignments**"
      ]
    },
    {
      "cell_type": "markdown",
      "metadata": {
        "id": "thfH-tU3V3LP",
        "colab_type": "text"
      },
      "source": [
        "**10.2**\n",
        "\n",
        "\n",
        "```\n",
        "Write a program to read through the mbox-short.txt and figure out the distribution by hour of the day for each of the messages. \n",
        "You can pull the hour out from the 'From ' line by finding the time and then splitting the string a \n",
        "second time using a colon.\n",
        "From stephen.marquard@uct.ac.za Sat Jan  5 09:14:16 2008\n",
        "Once you have accumulated the counts for each hour, print out the counts, sorted by hour as shown below.\n",
        "```\n",
        "\n"
      ]
    },
    {
      "cell_type": "code",
      "metadata": {
        "id": "OJc_Cin9WHef",
        "colab_type": "code",
        "outputId": "91fca4e9-e601-49c0-b769-5dcc630300e8",
        "colab": {
          "base_uri": "https://localhost:8080/",
          "height": 238
        }
      },
      "source": [
        "fname = open(input(\"Enter file name: \"))\n",
        "data = dict()\n",
        "for line in fname :\n",
        "  if line.startswith(\"From \") :\n",
        "    line = line.strip()\n",
        "    temp = line.split()\n",
        "    date = temp[5]\n",
        "    pos = date.find(\":\")\n",
        "    hour = date[ : pos]\n",
        "    data[hour] = data.get(hour, 0) + 1\n",
        "#print(data)\n",
        "lst = list()\n",
        "for key, value in data.items() :\n",
        "  tup = (key, value)\n",
        "  lst.append(tup) # list.append( (key,value) )\n",
        "lst.sort()\n",
        "for tup in lst :\n",
        "  hour, cnt = tup\n",
        "  print(hour, cnt)"
      ],
      "execution_count": 0,
      "outputs": [
        {
          "output_type": "stream",
          "text": [
            "Enter file name: /content/sample_data/mbox-short.txt\n",
            "04 3\n",
            "06 1\n",
            "07 1\n",
            "09 2\n",
            "10 3\n",
            "11 6\n",
            "14 1\n",
            "15 2\n",
            "16 4\n",
            "17 2\n",
            "18 1\n",
            "19 1\n"
          ],
          "name": "stdout"
        }
      ]
    }
  ]
}