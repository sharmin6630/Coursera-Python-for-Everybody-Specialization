{
  "nbformat": 4,
  "nbformat_minor": 0,
  "metadata": {
    "colab": {
      "name": "Basic Structured Query Language.ipynb",
      "provenance": [],
      "toc_visible": true,
      "mount_file_id": "1XrJ37ARv-7wX-4cfoiAVJEQDz6fqwU8l",
      "authorship_tag": "ABX9TyNOKKD35VA5UvYMihdaH97k",
      "include_colab_link": true
    },
    "kernelspec": {
      "name": "python3",
      "display_name": "Python 3"
    }
  },
  "cells": [
    {
      "cell_type": "markdown",
      "metadata": {
        "id": "view-in-github",
        "colab_type": "text"
      },
      "source": [
        "<a href=\"https://colab.research.google.com/github/sharmin6630/Python-for-Everybody/blob/master/Using%20Databases%20with%20Python/Basic_Structured_Query_Language.ipynb\" target=\"_parent\"><img src=\"https://colab.research.google.com/assets/colab-badge.svg\" alt=\"Open In Colab\"/></a>"
      ]
    },
    {
      "cell_type": "markdown",
      "metadata": {
        "id": "UfwpznVB84bM",
        "colab_type": "text"
      },
      "source": [
        "# **Basic Structured Query Language**"
      ]
    },
    {
      "cell_type": "code",
      "metadata": {
        "id": "mX8XA2MR_U5x",
        "colab_type": "code",
        "colab": {}
      },
      "source": [
        "from google.colab import drive\n",
        "drive.mount('/content/drive')"
      ],
      "execution_count": 0,
      "outputs": []
    },
    {
      "cell_type": "code",
      "metadata": {
        "id": "xjszJEhQ6i-U",
        "colab_type": "code",
        "outputId": "508f99e7-3516-4888-c076-717496876ba5",
        "colab": {
          "base_uri": "https://localhost:8080/",
          "height": 51
        }
      },
      "source": [
        "#pyhton class\n",
        "class animal :\n",
        "  def __init__(self, name) :\n",
        "    self.name = name\n",
        "  def __del__(self) :\n",
        "    print(self, \"is destroyed\")\n",
        "\n",
        "cow = animal(\"Cow\")\n",
        "print(cow.name)\n",
        "cow = 2"
      ],
      "execution_count": 0,
      "outputs": [
        {
          "output_type": "stream",
          "text": [
            "Cow\n",
            "<__main__.animal object at 0x7f6a6056d9e8> is destroyed\n"
          ],
          "name": "stdout"
        }
      ]
    },
    {
      "cell_type": "code",
      "metadata": {
        "id": "BJsQkUbu8_x_",
        "colab_type": "code",
        "colab": {
          "base_uri": "https://localhost:8080/",
          "height": 204
        },
        "outputId": "bfa85905-200f-40db-8eb2-90c1f20a4344"
      },
      "source": [
        "import sqlite3\n",
        "\n",
        "conn = sqlite3.connect('sampleemaildb.sqlite')\n",
        "cur = conn.cursor()\n",
        "\n",
        "cur.execute('DROP TABLE IF EXISTS Counts')\n",
        "\n",
        "cur.execute('''\n",
        "CREATE TABLE Counts (email TEXT, count INTEGER)''')\n",
        "\n",
        "fname = input('Enter file name: ')\n",
        "if (len(fname) < 1): fname = 'mbox-short.txt'\n",
        "fh = open(fname)\n",
        "for line in fh:\n",
        "    if not line.startswith('From: '): continue\n",
        "    pieces = line.split()\n",
        "    email = pieces[1]\n",
        "    cur.execute('SELECT count FROM Counts WHERE email = ? ', (email,))\n",
        "    row = cur.fetchone()\n",
        "    if row is None:\n",
        "        cur.execute('''INSERT INTO Counts (email, count)\n",
        "                VALUES (?, 1)''', (email,))\n",
        "    else:\n",
        "        cur.execute('UPDATE Counts SET count = count + 1 WHERE email = ?',\n",
        "                    (email,))\n",
        "    conn.commit()\n",
        "\n",
        "# https://www.sqlite.org/lang_select.html\n",
        "sqlstr = 'SELECT email, count FROM Counts ORDER BY count DESC LIMIT 10'\n",
        "\n",
        "for row in cur.execute(sqlstr):\n",
        "    print(str(row[0]), row[1])\n",
        "\n",
        "cur.close()"
      ],
      "execution_count": 36,
      "outputs": [
        {
          "output_type": "stream",
          "text": [
            "Enter file name: /content/sample_data/mbox.txt\n",
            "zqian@umich.edu 195\n",
            "mmmay@indiana.edu 161\n",
            "cwen@iupui.edu 158\n",
            "chmaurer@iupui.edu 111\n",
            "aaronz@vt.edu 110\n",
            "ian@caret.cam.ac.uk 96\n",
            "jimeng@umich.edu 93\n",
            "rjlowe@iupui.edu 90\n",
            "dlhaines@umich.edu 84\n",
            "david.horwitz@uct.ac.za 67\n"
          ],
          "name": "stdout"
        }
      ]
    },
    {
      "cell_type": "markdown",
      "metadata": {
        "id": "qD6TEEGu_Z3q",
        "colab_type": "text"
      },
      "source": [
        "# **Assignments**"
      ]
    },
    {
      "cell_type": "markdown",
      "metadata": {
        "id": "xpseWU-1_rju",
        "colab_type": "text"
      },
      "source": [
        "**COUNTING ORGANIZATIONS**\n",
        "\n",
        "```\n",
        "This application will read the mailbox data (mbox.txt) count up the number email\n",
        "messages per organization (i.e. domain name of the email address) using a database\n",
        "with the following schema to maintain the counts:\n",
        "CREATE TABLE Counts (org TEXT, count INTEGER)\n",
        "When you have run the program on mbox.txt upload the resulting database file \n",
        "above for grading. If you run the program multiple times in testing or with dfferent files, make\n",
        "sure to empty out the data before each run.\n",
        "You can use this code as a starting point for your application: \n",
        "http://www.pythonlearn.com/code/emaildb.py.\n",
        "The data file for this application is the same as in previous assignments:\n",
        "http://www.pythonlearn.com/code/mbox.txt.\n",
        "Because the sample code is using an UPDATE statement and committing the results\n",
        "to the database as each record is read in the loop, it might take as long as a \n",
        "Few minutes to process all the data. The commit insists on completely writing \n",
        "all the data to disk every time it is called.\n",
        "The program can be speeded up greatly by moving the commit operation outside of\n",
        "the loop. In any database program, there is a balance between the number of \n",
        "operations you execute between commits and the importance of not losing the \n",
        "results of operations that have not yet been committed. \n",
        "```\n",
        "\n",
        "\n"
      ]
    },
    {
      "cell_type": "code",
      "metadata": {
        "id": "w8UDyjDQ_ZaZ",
        "colab_type": "code",
        "colab": {
          "base_uri": "https://localhost:8080/",
          "height": 391
        },
        "outputId": "ae097433-173a-4211-bb56-a6c1be82b15c"
      },
      "source": [
        "import urllib.request, urllib.parse, urllib.error\n",
        "import sqlite3\n",
        "import re\n",
        "# import requests\n",
        "# url = 'http://www.py4e.com/code3/mbox.txt'\n",
        "# myfile = requests.get(url)\n",
        "# open(filepath, 'wb').write(myfile.content)\n",
        "\n",
        "conn = sqlite3.connect('emaildb.sqlite')\n",
        "cur = conn.cursor()\n",
        "\n",
        "cur.execute('DROP TABLE IF EXISTS Counts')\n",
        "cur.execute('CREATE TABLE Counts (org TEXT, count INTEGER)')\n",
        "\n",
        "fname = input(\"Enter file name: \")\n",
        "if len(fname) < 1 :\n",
        "  fhand = urllib.request.urlopen('http://www.py4e.com/code3/mbox.txt')\n",
        "else :\n",
        "  fhand = open(fname)\n",
        "\n",
        "for line in fhand :\n",
        "  if not line.startswith('From: '): continue\n",
        "  pieces = line.split()\n",
        "  email = pieces[1]\n",
        "  parts = email.split('@')\n",
        "  org = parts[1]\n",
        "  cur.execute('SELECT count FROM Counts WHERE org = ? ', (org,))\n",
        "  row = cur.fetchone()\n",
        "  if row is None:\n",
        "      cur.execute('''INSERT INTO Counts (org, count)\n",
        "              VALUES (?, 1)''', (org,))\n",
        "  else:\n",
        "      cur.execute('UPDATE Counts SET count = count + 1 WHERE org = ?',\n",
        "                  (org,))\n",
        "conn.commit()\n",
        "\n",
        "sqlstr = 'SELECT org, count FROM Counts ORDER BY count DESC'\n",
        "for row in cur.execute(sqlstr):\n",
        "    print(str(row[0]), row[1])\n",
        "\n",
        "cur.close()"
      ],
      "execution_count": 34,
      "outputs": [
        {
          "output_type": "stream",
          "text": [
            "Enter file name: /content/sample_data/mbox.txt\n",
            "iupui.edu 536\n",
            "umich.edu 491\n",
            "indiana.edu 178\n",
            "caret.cam.ac.uk 157\n",
            "vt.edu 110\n",
            "uct.ac.za 96\n",
            "media.berkeley.edu 56\n",
            "ufp.pt 28\n",
            "gmail.com 25\n",
            "et.gatech.edu 17\n",
            "txstate.edu 17\n",
            "whitman.edu 17\n",
            "lancaster.ac.uk 14\n",
            "bu.edu 14\n",
            "stanford.edu 12\n",
            "unicon.net 9\n",
            "loi.nl 9\n",
            "rsmart.com 8\n",
            "ucdavis.edu 1\n",
            "fhda.edu 1\n",
            "utoronto.ca 1\n"
          ],
          "name": "stdout"
        }
      ]
    }
  ]
}