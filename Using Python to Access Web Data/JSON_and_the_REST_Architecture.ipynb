{
  "nbformat": 4,
  "nbformat_minor": 0,
  "metadata": {
    "colab": {
      "name": "JSON and the REST Architecture.ipynb",
      "provenance": [],
      "authorship_tag": "ABX9TyOeU0hJmZ6M2VizDJkH9ubi",
      "include_colab_link": true
    },
    "kernelspec": {
      "name": "python3",
      "display_name": "Python 3"
    }
  },
  "cells": [
    {
      "cell_type": "markdown",
      "metadata": {
        "id": "view-in-github",
        "colab_type": "text"
      },
      "source": [
        "<a href=\"https://colab.research.google.com/github/sharmin6630/Python-for-Everybody/blob/master/Using%20Python%20to%20Access%20Web%20Data/JSON_and_the_REST_Architecture.ipynb\" target=\"_parent\"><img src=\"https://colab.research.google.com/assets/colab-badge.svg\" alt=\"Open In Colab\"/></a>"
      ]
    },
    {
      "cell_type": "markdown",
      "metadata": {
        "id": "f4BFiKzURT87",
        "colab_type": "text"
      },
      "source": [
        "# **JSON and the REST Architecture**"
      ]
    },
    {
      "cell_type": "code",
      "metadata": {
        "id": "OSQpp2p9RTRy",
        "colab_type": "code",
        "colab": {
          "base_uri": "https://localhost:8080/",
          "height": 51
        },
        "outputId": "ad580f1b-f0d0-45cc-c622-42523655b145"
      },
      "source": [
        "import json\n",
        "\n",
        "data = '''\n",
        "{\n",
        "  \"name\" : \"Chuck\",\n",
        "  \"phone\" : {\n",
        "    \"type\" : \"intl\",\n",
        "    \"number\" : \"+1 734 303 4456\"\n",
        "  },\n",
        "  \"email\" : {\n",
        "    \"hide\" : \"yes\"\n",
        "  }\n",
        " \n",
        "}'''\n",
        "\n",
        "data_json = json.loads(data)\n",
        "print('Name:', data_json[\"name\"])\n",
        "print('Hide:', data_json[\"email\"][\"hide\"])"
      ],
      "execution_count": 30,
      "outputs": [
        {
          "output_type": "stream",
          "text": [
            "Name: Chuck\n",
            "Hide: yes\n"
          ],
          "name": "stdout"
        }
      ]
    },
    {
      "cell_type": "code",
      "metadata": {
        "id": "5KD6TAwiXftR",
        "colab_type": "code",
        "colab": {
          "base_uri": "https://localhost:8080/",
          "height": 102
        },
        "outputId": "35f64435-50ee-4169-92a0-96c0d3af2735"
      },
      "source": [
        "data = '''\n",
        "[\n",
        "  {\n",
        "    \"name\" : \"Chuck\",\n",
        "    \"phone\" : {\n",
        "      \"type\" : \"intl\",\n",
        "      \"number\" : \"+1 734 303 4456\"\n",
        "    },\n",
        "    \"email\" : {\n",
        "      \"hide\" : \"yes\"\n",
        "    }\n",
        " \n",
        "  },\n",
        "  {\n",
        "    \"name\" : \"Joe\",\n",
        "    \"phone\" : {\n",
        "      \"type\" : \"intl\",\n",
        "      \"number\" : \"+1 734 703 4456\"\n",
        "    },\n",
        "    \"email\" : {\n",
        "      \"hide\" : \"no\"\n",
        "    }\n",
        "  }\n",
        "]\n",
        "'''\n",
        "data_json = json.loads(data)\n",
        "print(len(data_json))\n",
        "for item in data_json :\n",
        "  print('Name:', item[\"name\"])\n",
        "  print('Phone:', item[\"phone\"][\"number\"])\n"
      ],
      "execution_count": 35,
      "outputs": [
        {
          "output_type": "stream",
          "text": [
            "2\n",
            "Name: Chuck\n",
            "Phone: +1 734 303 4456\n",
            "Name: Joe\n",
            "Phone: +1 734 703 4456\n"
          ],
          "name": "stdout"
        }
      ]
    },
    {
      "cell_type": "code",
      "metadata": {
        "id": "3kvL5QD5fXSU",
        "colab_type": "code",
        "colab": {}
      },
      "source": [
        "import urllib.request, urllib.parse, urllib.error\n",
        "import xml.etree.ElementTree as ET\n",
        "import ssl\n",
        "\n",
        "api_key = False\n",
        "# If you have a Google Places API key, enter it here\n",
        "# api_key = 'AIzaSy___IDByT70'\n",
        "# https://developers.google.com/maps/documentation/geocoding/intro\n",
        "\n",
        "if api_key is False:\n",
        "    api_key = 42\n",
        "    serviceurl = 'http://py4e-data.dr-chuck.net/xml?'\n",
        "else :\n",
        "    serviceurl = 'https://maps.googleapis.com/maps/api/geocode/xml?'\n",
        "\n",
        "# Ignore SSL certificate errors\n",
        "ctx = ssl.create_default_context()\n",
        "ctx.check_hostname = False\n",
        "ctx.verify_mode = ssl.CERT_NONE\n",
        "\n",
        "while True:\n",
        "    address = input('Enter location: ')\n",
        "    if len(address) < 1: break\n",
        "\n",
        "    parms = dict()\n",
        "    parms['address'] = address\n",
        "    if api_key is not False: parms['key'] = api_key\n",
        "    url = serviceurl + urllib.parse.urlencode(parms)\n",
        "    print('Retrieving', url)\n",
        "    uh = urllib.request.urlopen(url, context=ctx)\n",
        "\n",
        "    data = uh.read()\n",
        "    print('Retrieved', len(data), 'characters')\n",
        "    print(data.decode())\n",
        "    tree = ET.fromstring(data)\n",
        "\n",
        "    results = tree.findall('result')\n",
        "    lat = results[0].find('geometry').find('location').find('lat').text\n",
        "    lng = results[0].find('geometry').find('location').find('lng').text\n",
        "    location = results[0].find('formatted_address').text\n",
        "\n",
        "    print('lat', lat, 'lng', lng)\n",
        "    print(location)"
      ],
      "execution_count": 0,
      "outputs": []
    },
    {
      "cell_type": "markdown",
      "metadata": {
        "id": "VhB3PSgCaBQm",
        "colab_type": "text"
      },
      "source": [
        "# **Assignments**"
      ]
    },
    {
      "cell_type": "markdown",
      "metadata": {
        "id": "OpdZDFACepm0",
        "colab_type": "text"
      },
      "source": [
        "**Extracting Data from JSON**\n",
        "\n",
        "\n",
        "```\n",
        "Extracting Data from JSON\n",
        "\n",
        "In this assignment you will write a Python program somewhat similar to http://\n",
        "www.py4e.com/code3/json2.py. The program will prompt for a URL, read the JSON \n",
        "data from that URL using urllib and then parse and extract the comment counts \n",
        "from the JSON data, compute the sum of the numbers in the file and enter the \n",
        "sum below:\n",
        "We provide two files for this assignment. One is a sample file where we give \n",
        "you the sum for your testing and the other is the actual data you need to \n",
        "process for the assignment.\n",
        "\n",
        "Sample data: http://py4e-data.dr-chuck.net/comments_42.json (Sum=2553)\n",
        "Actual data: http://py4e-data.dr-chuck.net/comments_558237.json (Sum ends with \n",
        "45)\n",
        "You do not need to save these files to your folder since your program will read \n",
        "the data directly from the URL. Note: Each student will have a distinct data \n",
        "url for the assignment - so only use your own data url for analysis.\n",
        "The closest sample code that shows how to parse JSON and extract a list is \n",
        "json2.py. You might also want to look at geoxml.py to see how to prompt for a \n",
        "URL and retrieve data from a URL.\n",
        "```\n",
        "\n"
      ]
    },
    {
      "cell_type": "code",
      "metadata": {
        "id": "TpvIx5-ufGjv",
        "colab_type": "code",
        "colab": {
          "base_uri": "https://localhost:8080/",
          "height": 51
        },
        "outputId": "4af5a668-226c-4a9a-88a0-a7d846d80612"
      },
      "source": [
        "import urllib.request, urllib.parse, urllib.error\n",
        "import xml.etree.ElementTree as ET\n",
        "\n",
        "url = input(\"Enter json url: \")\n",
        "data = urllib.request.urlopen(url).read().decode('utf-8')\n",
        "data_json = json.loads(data)\n",
        "#print(len(data))\n",
        "sum = 0\n",
        "for item in data_json[\"comments\"] :\n",
        "  sum += int(item['count'])\n",
        "print(sum)"
      ],
      "execution_count": 78,
      "outputs": [
        {
          "output_type": "stream",
          "text": [
            "Enter json url: http://py4e-data.dr-chuck.net/comments_558237.json\n",
            "2445\n"
          ],
          "name": "stdout"
        }
      ]
    },
    {
      "cell_type": "markdown",
      "metadata": {
        "id": "IvWRdN3qkbLW",
        "colab_type": "text"
      },
      "source": [
        "**Calling a JSON API**\n",
        "\n",
        "\n",
        "```\n",
        "In this assignment you will write a Python program somewhat similar to http://www.py4e.com/code3/geojson.py. \n",
        "The program will prompt for a location, contact a web service and retrieve JSON \n",
        "for the web service and parse that data, \n",
        "and retrieve the first place_id from the JSON. A place ID is a textual \n",
        "identifier that uniquely identifies a place as within Google Maps.\n",
        "API End Points\n",
        "\n",
        "To complete this assignment, you should use this API endpoint that has a static subset of the Google Data:\n",
        "\n",
        "http://py4e-data.dr-chuck.net/json?\n",
        "This API uses the same parameter (address) as the Google API. This API also has \n",
        "no rate limit so you can test as often as you like. If you visit the URL with \n",
        "no parameters, you get \"No address...\" response.\n",
        "To call the API, you need to include a key= parameter and provide the address \n",
        "that you are requesting as the address= parameter that is properly URL encoded \n",
        "using the urllib.parse.urlencode() function as shown in http://www.py4e.com/\n",
        "code3/geojson.py\n",
        "\n",
        "Make sure to check that your code is using the API endpoint is as shown above. \n",
        "You will get different results from the geojson and json endpoints so make sure \n",
        "you are using the same end point as this autograder is using.\n",
        "\n",
        "placeid: **Kaunas university of technology**\n",
        "\n",
        "```\n",
        "\n"
      ]
    },
    {
      "cell_type": "code",
      "metadata": {
        "id": "YCV1w1tfkvL_",
        "colab_type": "code",
        "colab": {
          "base_uri": "https://localhost:8080/",
          "height": 85
        },
        "outputId": "b19d62b5-9bca-45e9-8788-b3b1f766560d"
      },
      "source": [
        "import urllib.request, urllib.parse, urllib.error\n",
        "import xml.etree.ElementTree as ET\n",
        "import ssl\n",
        "\n",
        "# Ignore SSL certificate errors\n",
        "ctx = ssl.create_default_context()\n",
        "ctx.check_hostname = False\n",
        "ctx.verify_mode = ssl.CERT_NONE\n",
        "\n",
        "api_key = False\n",
        "\n",
        "if api_key is False:\n",
        "    api_key = 42\n",
        "    serviceurl = 'http://py4e-data.dr-chuck.net/json?'\n",
        "else :\n",
        "    serviceurl = 'https://maps.googleapis.com/maps/api/geocode/xml?'\n",
        "\n",
        "address = input('Enter location: ')\n",
        "parms = dict()\n",
        "parms['key'] = 42\n",
        "parms['address'] = address\n",
        "url = serviceurl + urllib.parse.urlencode(parms)\n",
        "data = urllib.request.urlopen(url).read().decode()\n",
        "#print(data)\n",
        "print(\"Retrieving http://...\")\n",
        "print(\"Retrieved\", len(data), \"characters\")\n",
        "data_json = json.loads(data)\n",
        "print(\"Place id\", data_json[\"results\"][0]['place_id'])"
      ],
      "execution_count": 98,
      "outputs": [
        {
          "output_type": "stream",
          "text": [
            "Enter location: Kaunas university of technology\n",
            "Retrieving http://...\n",
            "Retrieved 2120 characters\n",
            "Place id ChIJiUOy_nQi50YR3wAbo1OCGeY\n"
          ],
          "name": "stdout"
        }
      ]
    }
  ]
}