{
  "nbformat": 4,
  "nbformat_minor": 0,
  "metadata": {
    "colab": {
      "name": "Networks and Sockets.ipynb",
      "provenance": [],
      "toc_visible": true,
      "authorship_tag": "ABX9TyMBA9YyTrCVUWfdwyGC1ZkJ",
      "include_colab_link": true
    },
    "kernelspec": {
      "name": "python3",
      "display_name": "Python 3"
    }
  },
  "cells": [
    {
      "cell_type": "markdown",
      "metadata": {
        "id": "view-in-github",
        "colab_type": "text"
      },
      "source": [
        "<a href=\"https://colab.research.google.com/github/sharmin6630/Python-for-Everybody/blob/master/Using%20Python%20to%20Access%20Web%20Data/Networks_and_Sockets.ipynb\" target=\"_parent\"><img src=\"https://colab.research.google.com/assets/colab-badge.svg\" alt=\"Open In Colab\"/></a>"
      ]
    },
    {
      "cell_type": "markdown",
      "metadata": {
        "id": "rAkLdgYCsYnn",
        "colab_type": "text"
      },
      "source": [
        "# **Networks and Sockets**"
      ]
    },
    {
      "cell_type": "code",
      "metadata": {
        "id": "VO0Y_ocwsXzk",
        "colab_type": "code",
        "colab": {
          "base_uri": "https://localhost:8080/",
          "height": 122
        },
        "outputId": "e7e6db13-acb3-4c03-ab1b-8880e254a84e"
      },
      "source": [
        "import os\n",
        "from pathlib import Path\n",
        "from google.colab import drive\n",
        "drive.mount('/content/gdrive')"
      ],
      "execution_count": 1,
      "outputs": [
        {
          "output_type": "stream",
          "text": [
            "Go to this URL in a browser: https://accounts.google.com/o/oauth2/auth?client_id=947318989803-6bn6qk8qdgf4n4g3pfee6491hc0brc4i.apps.googleusercontent.com&redirect_uri=urn%3aietf%3awg%3aoauth%3a2.0%3aoob&response_type=code&scope=email%20https%3a%2f%2fwww.googleapis.com%2fauth%2fdocs.test%20https%3a%2f%2fwww.googleapis.com%2fauth%2fdrive%20https%3a%2f%2fwww.googleapis.com%2fauth%2fdrive.photos.readonly%20https%3a%2f%2fwww.googleapis.com%2fauth%2fpeopleapi.readonly\n",
            "\n",
            "Enter your authorization code:\n",
            "··········\n",
            "Mounted at /content/gdrive\n"
          ],
          "name": "stdout"
        }
      ]
    },
    {
      "cell_type": "markdown",
      "metadata": {
        "id": "RbcN79DDEOoA",
        "colab_type": "text"
      },
      "source": [
        "# **Assignment**"
      ]
    },
    {
      "cell_type": "markdown",
      "metadata": {
        "id": "ViYFYn_OEU4j",
        "colab_type": "text"
      },
      "source": [
        "\n",
        "\n",
        "```\n",
        "Understanding the Request / Response Cycle\n",
        "\n",
        "Exploring the HyperText Transport Protocol\n",
        "\n",
        "You are to retrieve the following document using the HTTP protocol in a way \n",
        "that you can examine the HTTP Response headers.\n",
        "\n",
        "http://data.pr4e.org/intro-short.txt\n",
        "There are three ways that you might retrieve this web page and look at the \n",
        "response headers:\n",
        "\n",
        "Preferred: Modify the socket1.py program to retrieve the above URL and print \n",
        "out the headers and data. Make sure to change the code to retrieve the above \n",
        "URL - the values are different for each URL.\n",
        "Open the URL in a web browser with a developer console or FireBug and manually \n",
        "examine the headers that are returned.\n",
        "Use the telnet program as shown in lecture to retrieve the headers and content.\n",
        "\n",
        "```\n",
        "\n"
      ]
    },
    {
      "cell_type": "code",
      "metadata": {
        "id": "hRnV_DAgtoFr",
        "colab_type": "code",
        "colab": {
          "base_uri": "https://localhost:8080/",
          "height": 442
        },
        "outputId": "708a8f67-db91-4cd8-80a0-9ac2389c27ca"
      },
      "source": [
        "import socket\n",
        "mySock = socket.socket(socket.AF_INET, socket.SOCK_STREAM)\n",
        "mySock.connect(('data.pr4e.org', 80))\n",
        "cmd = 'GET http://data.pr4e.org/intro-short.txt HTTP/1.0\\r\\n\\r\\n'.encode() #utf-8\n",
        "mySock.send(cmd)\n",
        "\n",
        "while True :\n",
        "  data = mySock.recv(512)\n",
        "  if len(data) < 1 :\n",
        "    break\n",
        "  print(data.decode())\n",
        "mySock.close()"
      ],
      "execution_count": 7,
      "outputs": [
        {
          "output_type": "stream",
          "text": [
            "HTTP/1.1 200 OK\r\n",
            "Date: Fri, 15 May 2020 11:18:21 GMT\r\n",
            "Server: Apache/2.4.18 (Ubuntu)\r\n",
            "Last-Modified: Sat, 13 May 2017 11:22:22 GMT\r\n",
            "ETag: \"1d3-54f6609240717\"\r\n",
            "Accept-Ranges: bytes\r\n",
            "Content-Length: 467\r\n",
            "Cache-Control: max-age=0, no-cache, no-store, must-revalidate\r\n",
            "Pragma: no-cache\r\n",
            "Expires: Wed, 11 Jan 1984 05:00:00 GMT\r\n",
            "Connection: close\r\n",
            "Content-Type: text/plain\r\n",
            "\r\n",
            "Why should you learn to write programs?\n",
            "\n",
            "Writing programs (or programming) is a very creative \n",
            "and rewarding activity.  You can write programs\n",
            " for \n",
            "many reasons, ranging from making your living to solving\n",
            "a difficult data analysis problem to having fun to helping\n",
            "someone else solve a problem.  This book assumes that \n",
            "everyone needs to know how to program, and that once \n",
            "you know how to program you will figure out what you want \n",
            "to do with your newfound skills.  \n",
            "\n"
          ],
          "name": "stdout"
        }
      ]
    }
  ]
}