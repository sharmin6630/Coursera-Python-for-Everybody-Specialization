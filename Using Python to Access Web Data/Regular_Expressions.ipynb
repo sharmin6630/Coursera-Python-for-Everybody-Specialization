{
  "nbformat": 4,
  "nbformat_minor": 0,
  "metadata": {
    "colab": {
      "name": "Regular Expressions.ipynb",
      "provenance": [],
      "authorship_tag": "ABX9TyMEAHQWiKI9N9trzw1Qd27L",
      "include_colab_link": true
    },
    "kernelspec": {
      "name": "python3",
      "display_name": "Python 3"
    }
  },
  "cells": [
    {
      "cell_type": "markdown",
      "metadata": {
        "id": "view-in-github",
        "colab_type": "text"
      },
      "source": [
        "<a href=\"https://colab.research.google.com/github/sharmin6630/Python-for-Everybody/blob/master/Using%20Python%20to%20Access%20Web%20Data/Regular_Expressions.ipynb\" target=\"_parent\"><img src=\"https://colab.research.google.com/assets/colab-badge.svg\" alt=\"Open In Colab\"/></a>"
      ]
    },
    {
      "cell_type": "markdown",
      "metadata": {
        "id": "ZMK_LDtQbab6",
        "colab_type": "text"
      },
      "source": [
        "# **Regular Expressions**"
      ]
    },
    {
      "cell_type": "code",
      "metadata": {
        "id": "_dBCvwH5bLz9",
        "colab_type": "code",
        "outputId": "292c42fb-1a72-4f78-fe5b-84b4a7175e78",
        "colab": {
          "base_uri": "https://localhost:8080/",
          "height": 122
        }
      },
      "source": [
        "import os\n",
        "from pathlib import Path\n",
        "from google.colab import drive\n",
        "drive.mount('/content/gdrive')"
      ],
      "execution_count": 0,
      "outputs": [
        {
          "output_type": "stream",
          "text": [
            "Go to this URL in a browser: https://accounts.google.com/o/oauth2/auth?client_id=947318989803-6bn6qk8qdgf4n4g3pfee6491hc0brc4i.apps.googleusercontent.com&redirect_uri=urn%3aietf%3awg%3aoauth%3a2.0%3aoob&response_type=code&scope=email%20https%3a%2f%2fwww.googleapis.com%2fauth%2fdocs.test%20https%3a%2f%2fwww.googleapis.com%2fauth%2fdrive%20https%3a%2f%2fwww.googleapis.com%2fauth%2fdrive.photos.readonly%20https%3a%2f%2fwww.googleapis.com%2fauth%2fpeopleapi.readonly\n",
            "\n",
            "Enter your authorization code:\n",
            "··········\n",
            "Mounted at /content/gdrive\n"
          ],
          "name": "stdout"
        }
      ]
    },
    {
      "cell_type": "code",
      "metadata": {
        "id": "XZ4MRJIhbi_d",
        "colab_type": "code",
        "colab": {}
      },
      "source": [
        "# https://docs.python.org/3/howto/regex.html\n",
        "# ^X.*:\n",
        "# ^X\\S+\n",
        "# ^ --> start of the line\n",
        "# .* --> zero or more character\n",
        "# \\S --> any non-whitespace character \\ --> next character\n",
        "# \\s --> Matches whitespace\n",
        "# + --> one or more character\n",
        "# [0-9]+ --> one or more digits\n",
        "# re.search() --> True/False if match found\n",
        "# re.findall() --> Extract all matches\n",
        "# .+? --> one or more characters but not greedy (shortest match)\n",
        "# [] -->match\n",
        "# [^x] -->don't match x\n",
        "# [^ ] --> nonspace character\n",
        "# $ --> matches at the end of a line"
      ],
      "execution_count": 0,
      "outputs": []
    },
    {
      "cell_type": "markdown",
      "metadata": {
        "id": "o8cI7uB3E2q7",
        "colab_type": "text"
      },
      "source": [
        "# **Assignment**"
      ]
    },
    {
      "cell_type": "markdown",
      "metadata": {
        "id": "pxW5vhPamE8p",
        "colab_type": "text"
      },
      "source": [
        "**Extracting Data With Regular Expressions**\n",
        "\n",
        "```\n",
        "Finding Numbers in a Haystack\n",
        "In this assignment you will read through and parse a file with text and \n",
        "numbers. You will extract all the numbers in the file and compute the sum of \n",
        "the numbers.\n",
        "Data Files\n",
        "We provide two files for this assignment. One is a sample file where we give \n",
        "you the sum for your testing and the other is the actual data you need to \n",
        "process for the assignment.\n",
        "Sample data: http://py4e-data.dr-chuck.net/regex_sum_42.txt (There are 90 \n",
        "values with a sum=445833)\n",
        "Actual data: http://py4e-data.dr-chuck.net/regex_sum_558232.txt (There are 103 values and the sum ends with 427)\n",
        "\n",
        "```\n",
        "\n"
      ]
    },
    {
      "cell_type": "code",
      "metadata": {
        "id": "GADpWfUAms2-",
        "colab_type": "code",
        "outputId": "8ecb648c-9633-42c9-9eb0-48f8d92dd71c",
        "colab": {
          "base_uri": "https://localhost:8080/",
          "height": 51
        }
      },
      "source": [
        "import re\n",
        "fname = open(input(\"Enter file name: \"))\n",
        "sum = 0\n",
        "for line in fname :\n",
        "  f = re.findall('[0-9]+',line)\n",
        "  for word in f :\n",
        "    if word != '' :\n",
        "      num = int(word)\n",
        "      sum += num\n",
        "print(sum)\n"
      ],
      "execution_count": 0,
      "outputs": [
        {
          "output_type": "stream",
          "text": [
            "Enter file name: /content/sample_data/regex_sum.txt\n",
            "445833\n"
          ],
          "name": "stdout"
        }
      ]
    }
  ]
}