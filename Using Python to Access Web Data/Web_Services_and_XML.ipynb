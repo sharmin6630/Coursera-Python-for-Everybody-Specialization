{
  "nbformat": 4,
  "nbformat_minor": 0,
  "metadata": {
    "colab": {
      "name": "Web Services and XML.ipynb",
      "provenance": [],
      "authorship_tag": "ABX9TyM1nlCX1DWOIet25Ci3//RR",
      "include_colab_link": true
    },
    "kernelspec": {
      "name": "python3",
      "display_name": "Python 3"
    }
  },
  "cells": [
    {
      "cell_type": "markdown",
      "metadata": {
        "id": "view-in-github",
        "colab_type": "text"
      },
      "source": [
        "<a href=\"https://colab.research.google.com/github/sharmin6630/Python-for-Everybody/blob/master/Using%20Python%20to%20Access%20Web%20Data/Web_Services_and_XML.ipynb\" target=\"_parent\"><img src=\"https://colab.research.google.com/assets/colab-badge.svg\" alt=\"Open In Colab\"/></a>"
      ]
    },
    {
      "cell_type": "markdown",
      "metadata": {
        "id": "_vOpnScVySec",
        "colab_type": "text"
      },
      "source": [
        "# **Web Services and XML**"
      ]
    },
    {
      "cell_type": "code",
      "metadata": {
        "id": "aREe8oikyP4_",
        "colab_type": "code",
        "colab": {
          "base_uri": "https://localhost:8080/",
          "height": 51
        },
        "outputId": "907e02dd-88bc-4ee9-c9c2-dcd99976e20b"
      },
      "source": [
        "# Wire format\n",
        "# Seriealization\n",
        "import xml.etree.ElementTree as ET\n",
        "data = '''\n",
        "  <person>\n",
        "    <name>Chuck</name>\n",
        "    <phone type = \"int\">\n",
        "      +1 734 303 4456\n",
        "    </phone>\n",
        "    <email hide = \"yes\"/>\n",
        "  </person>\n",
        "  '''\n",
        "\n",
        "tree = ET.fromstring(data)\n",
        "print('Name:', tree.find('name').text)\n",
        "print('Attr:', tree.find('email').get('hide'))"
      ],
      "execution_count": 36,
      "outputs": [
        {
          "output_type": "stream",
          "text": [
            "Name: Chuck\n",
            "Attr: yes\n"
          ],
          "name": "stdout"
        }
      ]
    },
    {
      "cell_type": "markdown",
      "metadata": {
        "id": "6DvzTx2_IgDT",
        "colab_type": "text"
      },
      "source": [
        "# **Assignments**"
      ]
    },
    {
      "cell_type": "markdown",
      "metadata": {
        "id": "b_9Q5CfFIjzW",
        "colab_type": "text"
      },
      "source": [
        "**Extracting Data from XML**\n",
        "\n",
        "```\n",
        "In this assignment you will write a Python program somewhat similar to http://\n",
        "www.py4e.com/code3/geoxml.py. The program will prompt for a URL, read the XML\n",
        "data from that URL using urllib and then parse and extract the comment counts\n",
        "from the XML data, compute the sum of the numbers in the file.\n",
        "\n",
        "\n",
        "We provide two files for this assignment. One is a sample file where we give\n",
        "you the sum for your testing and the other is the actual data you need to \n",
        "process for the assignment.\n",
        "\n",
        "Sample data: http://py4e-data.dr-chuck.net/comments_42.xml (Sum=2553)\n",
        "Actual data: http://py4e-data.dr-chuck.net/comments_558236.xml (Sum ends with 7)\n",
        "\n",
        "You do not need to save these files to your folder since your program will read\n",
        "the data directly from the URL. Note: Each student will have a distinct data\n",
        "url for the assignment - so only use your own data url for analysis.\n",
        "Data Format and Approach\n",
        "The data consists of a number of names and comment counts in XML as follows:\n",
        "\n",
        "<comment>\n",
        "  <name>Matthias</name>\n",
        "  <count>97</count>\n",
        "</comment>\n",
        "You are to look through all the <comment> tags and find the <count> values sum\n",
        "the numbers. The closest sample code that shows how to parse XML is geoxml.py\n",
        "But since the nesting of the elements in our data is different than the data we\n",
        "are parsing in that sample code you will have to make real changes to the code.\n",
        "To make the code a little simpler, you can use an XPath selector string to look\n",
        "through the entire tree of XML for any tag named 'count' with the following\n",
        "line of code:\n",
        "\n",
        "counts = tree.findall('.//count')\n",
        "```\n",
        "\n"
      ]
    },
    {
      "cell_type": "code",
      "metadata": {
        "id": "ma4vHQN9JQ_h",
        "colab_type": "code",
        "colab": {
          "base_uri": "https://localhost:8080/",
          "height": 51
        },
        "outputId": "ad6f8c46-0f53-46e4-9637-ca5130b2a648"
      },
      "source": [
        "import urllib.request, urllib.parse, urllib.error\n",
        "import re\n",
        "import xml.etree.ElementTree as ET\n",
        "from bs4 import BeautifulSoup\n",
        "\n",
        "fhand = input(\"Enter xml file url: \")\n",
        "data = urllib.request.urlopen(fhand).read()\n",
        "tree = ET.fromstring(data)\n",
        "cnt = tree.findall('.//count')\n",
        "sum = 0\n",
        "for num in cnt :\n",
        "  sum += int(num.text)\n",
        "print(sum)"
      ],
      "execution_count": 41,
      "outputs": [
        {
          "output_type": "stream",
          "text": [
            "Enter xml file url: http://py4e-data.dr-chuck.net/comments_558236.xml\n",
            "2307\n"
          ],
          "name": "stdout"
        }
      ]
    }
  ]
}